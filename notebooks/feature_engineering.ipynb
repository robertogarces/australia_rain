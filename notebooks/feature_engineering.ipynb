{
 "cells": [
  {
   "cell_type": "markdown",
   "id": "ede32479",
   "metadata": {},
   "source": [
    "\n",
    "## 📌 Feature Engineering Plan\n",
    "\n",
    "Based on the exploratory data analysis (EDA) conducted, we can now outline a structured plan to guide the feature engineering process. The following steps will be followed:\n",
    "\n",
    "1. **Create a `'Month'` Feature**  \n",
    "   Extract the month from the date column to capture potential seasonal trends in rainfall.\n",
    "\n",
    "2. **Remove Outliers**  \n",
    "   Identify and eliminate extreme values that may distort the model’s performance.\n",
    "\n",
    "3. **Address Skewness**  \n",
    "   Apply transformations (e.g., log, Box-Cox) to reduce skewness in numerical features where necessary.\n",
    "\n",
    "4. **Remove Highly Correlated Features**  \n",
    "   Drop redundant features that show strong correlation with each other to reduce multicollinearity.\n",
    "\n",
    "5. **Handle Missing Values**  \n",
    "   - If a feature has a high percentage of missing values, it will either be dropped or a new category such as `'Missing'` will be created (for categorical features).  \n",
    "   - If the percentage of missing values is moderate or low, different imputation strategies will be tested.\n",
    "\n",
    "6. **Create New Features**  \n",
    "   Engineer additional features based on domain knowledge or variable interactions that may improve model performance.\n",
    "\n",
    "7. **Encoding**  \n",
    "   - Apply suitable encoding techniques (e.g., One-Hot Encoding, Ordinal Encoding) to categorical features for compatibility with machine learning algorithms."
   ]
  },
  {
   "cell_type": "code",
   "execution_count": 36,
   "id": "dad4fa8f",
   "metadata": {},
   "outputs": [],
   "source": [
    "import pandas as pd\n",
    "import numpy as np\n",
    "import re\n",
    "\n",
    "from sklearn.preprocessing import LabelEncoder\n",
    "\n",
    "pd.set_option('display.max_columns', None)"
   ]
  },
  {
   "cell_type": "code",
   "execution_count": 37,
   "id": "d4a1bf9a",
   "metadata": {},
   "outputs": [
    {
     "name": "stdout",
     "output_type": "stream",
     "text": [
      "Dataframe shape: (142193, 23)\n"
     ]
    },
    {
     "data": {
      "text/html": [
       "<div>\n",
       "<style scoped>\n",
       "    .dataframe tbody tr th:only-of-type {\n",
       "        vertical-align: middle;\n",
       "    }\n",
       "\n",
       "    .dataframe tbody tr th {\n",
       "        vertical-align: top;\n",
       "    }\n",
       "\n",
       "    .dataframe thead th {\n",
       "        text-align: right;\n",
       "    }\n",
       "</style>\n",
       "<table border=\"1\" class=\"dataframe\">\n",
       "  <thead>\n",
       "    <tr style=\"text-align: right;\">\n",
       "      <th></th>\n",
       "      <th>Date</th>\n",
       "      <th>Location</th>\n",
       "      <th>MinTemp</th>\n",
       "      <th>MaxTemp</th>\n",
       "      <th>Rainfall</th>\n",
       "      <th>Evaporation</th>\n",
       "      <th>Sunshine</th>\n",
       "      <th>WindGustDir</th>\n",
       "      <th>WindGustSpeed</th>\n",
       "      <th>WindDir9am</th>\n",
       "      <th>WindDir3pm</th>\n",
       "      <th>WindSpeed9am</th>\n",
       "      <th>WindSpeed3pm</th>\n",
       "      <th>Humidity9am</th>\n",
       "      <th>Humidity3pm</th>\n",
       "      <th>Pressure9am</th>\n",
       "      <th>Pressure3pm</th>\n",
       "      <th>Cloud9am</th>\n",
       "      <th>Cloud3pm</th>\n",
       "      <th>Temp9am</th>\n",
       "      <th>Temp3pm</th>\n",
       "      <th>RainToday</th>\n",
       "      <th>RainTomorrow</th>\n",
       "    </tr>\n",
       "  </thead>\n",
       "  <tbody>\n",
       "    <tr>\n",
       "      <th>0</th>\n",
       "      <td>2008-12-01</td>\n",
       "      <td>Albury</td>\n",
       "      <td>13.4</td>\n",
       "      <td>22.9</td>\n",
       "      <td>0.6</td>\n",
       "      <td>NaN</td>\n",
       "      <td>NaN</td>\n",
       "      <td>W</td>\n",
       "      <td>44.0</td>\n",
       "      <td>W</td>\n",
       "      <td>WNW</td>\n",
       "      <td>20.0</td>\n",
       "      <td>24.0</td>\n",
       "      <td>71.0</td>\n",
       "      <td>22.0</td>\n",
       "      <td>1007.7</td>\n",
       "      <td>1007.1</td>\n",
       "      <td>8.0</td>\n",
       "      <td>NaN</td>\n",
       "      <td>16.9</td>\n",
       "      <td>21.8</td>\n",
       "      <td>0.0</td>\n",
       "      <td>0</td>\n",
       "    </tr>\n",
       "    <tr>\n",
       "      <th>1</th>\n",
       "      <td>2008-12-02</td>\n",
       "      <td>Albury</td>\n",
       "      <td>7.4</td>\n",
       "      <td>25.1</td>\n",
       "      <td>0.0</td>\n",
       "      <td>NaN</td>\n",
       "      <td>NaN</td>\n",
       "      <td>WNW</td>\n",
       "      <td>44.0</td>\n",
       "      <td>NNW</td>\n",
       "      <td>WSW</td>\n",
       "      <td>4.0</td>\n",
       "      <td>22.0</td>\n",
       "      <td>44.0</td>\n",
       "      <td>25.0</td>\n",
       "      <td>1010.6</td>\n",
       "      <td>1007.8</td>\n",
       "      <td>NaN</td>\n",
       "      <td>NaN</td>\n",
       "      <td>17.2</td>\n",
       "      <td>24.3</td>\n",
       "      <td>0.0</td>\n",
       "      <td>0</td>\n",
       "    </tr>\n",
       "    <tr>\n",
       "      <th>2</th>\n",
       "      <td>2008-12-03</td>\n",
       "      <td>Albury</td>\n",
       "      <td>12.9</td>\n",
       "      <td>25.7</td>\n",
       "      <td>0.0</td>\n",
       "      <td>NaN</td>\n",
       "      <td>NaN</td>\n",
       "      <td>WSW</td>\n",
       "      <td>46.0</td>\n",
       "      <td>W</td>\n",
       "      <td>WSW</td>\n",
       "      <td>19.0</td>\n",
       "      <td>26.0</td>\n",
       "      <td>38.0</td>\n",
       "      <td>30.0</td>\n",
       "      <td>1007.6</td>\n",
       "      <td>1008.7</td>\n",
       "      <td>NaN</td>\n",
       "      <td>2.0</td>\n",
       "      <td>21.0</td>\n",
       "      <td>23.2</td>\n",
       "      <td>0.0</td>\n",
       "      <td>0</td>\n",
       "    </tr>\n",
       "  </tbody>\n",
       "</table>\n",
       "</div>"
      ],
      "text/plain": [
       "         Date Location  MinTemp  MaxTemp  Rainfall  Evaporation  Sunshine  \\\n",
       "0  2008-12-01   Albury     13.4     22.9       0.6          NaN       NaN   \n",
       "1  2008-12-02   Albury      7.4     25.1       0.0          NaN       NaN   \n",
       "2  2008-12-03   Albury     12.9     25.7       0.0          NaN       NaN   \n",
       "\n",
       "  WindGustDir  WindGustSpeed WindDir9am WindDir3pm  WindSpeed9am  \\\n",
       "0           W           44.0          W        WNW          20.0   \n",
       "1         WNW           44.0        NNW        WSW           4.0   \n",
       "2         WSW           46.0          W        WSW          19.0   \n",
       "\n",
       "   WindSpeed3pm  Humidity9am  Humidity3pm  Pressure9am  Pressure3pm  Cloud9am  \\\n",
       "0          24.0         71.0         22.0       1007.7       1007.1       8.0   \n",
       "1          22.0         44.0         25.0       1010.6       1007.8       NaN   \n",
       "2          26.0         38.0         30.0       1007.6       1008.7       NaN   \n",
       "\n",
       "   Cloud3pm  Temp9am  Temp3pm  RainToday  RainTomorrow  \n",
       "0       NaN     16.9     21.8        0.0             0  \n",
       "1       NaN     17.2     24.3        0.0             0  \n",
       "2       2.0     21.0     23.2        0.0             0  "
      ]
     },
     "execution_count": 37,
     "metadata": {},
     "output_type": "execute_result"
    }
   ],
   "source": [
    "# Load dataset\n",
    "df = pd.read_csv('../data/raw/weatherAUS.csv')\n",
    "target = 'RainTomorrow'\n",
    "# Drop target labels that are null\n",
    "df.dropna(subset=[target], inplace=True)\n",
    "# Convert both target and RainToday feature into boolean\n",
    "df['RainTomorrow'] = df['RainTomorrow'].map({'No': 0, 'Yes': 1})\n",
    "df['RainToday'] = df['RainToday'].map({'No': 0, 'Yes': 1})\n",
    "\n",
    "print(f'Dataframe shape: {df.shape}')\n",
    "df.head(3)"
   ]
  },
  {
   "cell_type": "code",
   "execution_count": 38,
   "id": "e1b13c1e",
   "metadata": {},
   "outputs": [],
   "source": [
    "df['Date'] = pd.to_datetime(df['Date'])\n",
    "num_features = df.select_dtypes(include=np.number).columns.tolist()\n",
    "cat_features = df.select_dtypes(include='object').columns.tolist()"
   ]
  },
  {
   "cell_type": "code",
   "execution_count": 40,
   "id": "be8e3f7b",
   "metadata": {},
   "outputs": [
    {
     "name": "stdout",
     "output_type": "stream",
     "text": [
      "['Location', 'WindGustDir', 'WindDir9am', 'WindDir3pm']\n"
     ]
    }
   ],
   "source": [
    "print(cat_features)"
   ]
  },
  {
   "cell_type": "markdown",
   "id": "09eecb9c",
   "metadata": {},
   "source": [
    "# 1. Create `'Month'` feature"
   ]
  },
  {
   "cell_type": "code",
   "execution_count": 4,
   "id": "f37dea7d",
   "metadata": {},
   "outputs": [],
   "source": [
    "df['Month'] = df['Date'].dt.month"
   ]
  },
  {
   "cell_type": "markdown",
   "id": "e3ee3fb8",
   "metadata": {},
   "source": [
    "# 2. Remove outliers"
   ]
  },
  {
   "cell_type": "code",
   "execution_count": 5,
   "id": "5a458ab2",
   "metadata": {},
   "outputs": [],
   "source": [
    "features_with_outliers = ['Rainfall', 'Evaporation', 'WindGustSpeed', 'WindSpeed9am', 'WindSpeed3pm']"
   ]
  },
  {
   "cell_type": "code",
   "execution_count": null,
   "id": "114aa9d9",
   "metadata": {},
   "outputs": [
    {
     "name": "stdout",
     "output_type": "stream",
     "text": [
      "Rows removed due to upper 1.00% outliers: 4944\n"
     ]
    }
   ],
   "source": [
    "def filter_outliers_by_percentile(df, features, percentile=0.99):\n",
    "    \"\"\"\n",
    "    Remove rows where any value in specified features exceeds the given percentile threshold.\n",
    "    Only filters the upper tail (high values) as outliers.\n",
    "\n",
    "    Parameters:\n",
    "        df (pd.DataFrame): Input DataFrame.\n",
    "        features (list): List of columns to check for outliers.\n",
    "        percentile (float): Percentile threshold (between 0 and 1). Rows with values above this percentile are removed.\n",
    "\n",
    "    Returns:\n",
    "        pd.DataFrame: DataFrame without rows exceeding the specified percentile in any of the features.\n",
    "    \"\"\"\n",
    "    df_clean = df.copy()\n",
    "    outlier_indices = set()\n",
    "    \n",
    "    for col in features:\n",
    "        threshold = df_clean[col].quantile(percentile)\n",
    "        col_outliers = df_clean[df_clean[col] > threshold].index\n",
    "        outlier_indices.update(col_outliers)\n",
    "        \n",
    "    initial_rows = df_clean.shape[0]\n",
    "    df_clean = df_clean.drop(index=outlier_indices)\n",
    "    final_rows = df_clean.shape[0]\n",
    "    \n",
    "    print(f\"Rows removed due to upper {100*(1-percentile):.2f}% outliers: {initial_rows - final_rows}\")\n",
    "    return df_clean\n",
    "\n",
    "df = filter_outliers_by_percentile(df, features_with_outliers, 0.99)"
   ]
  },
  {
   "cell_type": "markdown",
   "id": "3e61ff78",
   "metadata": {},
   "source": [
    "# 4. Remove highly correlated features"
   ]
  },
  {
   "cell_type": "code",
   "execution_count": null,
   "id": "71d9fad9",
   "metadata": {},
   "outputs": [],
   "source": [
    "import pandas as pd\n",
    "import numpy as np\n",
    "\n",
    "def remove_highly_correlated_features(df, target, threshold=0.9, strategy='nulls'):\n",
    "    \"\"\"\n",
    "    Removes one of each pair of highly correlated features based on a selection strategy.\n",
    "    \n",
    "    Parameters:\n",
    "        df (pd.DataFrame): The dataset.\n",
    "        target (str): Name of the target variable.\n",
    "        threshold (float): Correlation threshold.\n",
    "        strategy (str): Strategy to drop one variable from each correlated pair. \n",
    "                        Options: 'nulls', 'target_corr'.\n",
    "    \n",
    "    Returns:\n",
    "        pd.DataFrame: DataFrame with reduced features.\n",
    "        list: List of dropped features.\n",
    "    \"\"\"\n",
    "    df_numeric = df.select_dtypes(include=[np.number]).drop(columns=[target], errors='ignore')\n",
    "    corr_matrix = df_numeric.corr().abs()\n",
    "    upper_tri = corr_matrix.where(np.triu(np.ones(corr_matrix.shape), k=1).astype(bool))\n",
    "    \n",
    "    to_drop = set()\n",
    "\n",
    "    for col in upper_tri.columns:\n",
    "        for row in upper_tri.index:\n",
    "            corr_value = upper_tri.loc[row, col]\n",
    "            if pd.notnull(corr_value) and corr_value > threshold:\n",
    "                # If any of the two has already been dropped, skip\n",
    "                if row in to_drop or col in to_drop:\n",
    "                    continue\n",
    "\n",
    "                if strategy == 'nulls':\n",
    "                    nulls_row = df[row].isnull().sum()\n",
    "                    nulls_col = df[col].isnull().sum()\n",
    "                    drop = row if nulls_row > nulls_col else col\n",
    "\n",
    "                elif strategy == 'target_corr':\n",
    "                    if target not in df.columns:\n",
    "                        raise ValueError(\"Target column not found in DataFrame.\")\n",
    "                    corr_row = abs(df[[row, target]].corr().iloc[0, 1])\n",
    "                    corr_col = abs(df[[col, target]].corr().iloc[0, 1])\n",
    "                    drop = row if corr_row < corr_col else col\n",
    "\n",
    "                else:\n",
    "                    raise ValueError(\"Invalid strategy. Choose 'nulls' or 'target_corr'.\")\n",
    "\n",
    "                to_drop.add(drop)\n",
    "\n",
    "    reduced_df = df.drop(columns=list(to_drop))\n",
    "    return reduced_df, list(to_drop)\n",
    "\n",
    "#df, dropped = remove_highly_correlated_features(df, target='RainTomorrow', threshold=0.9, strategy='target_corr')\n",
    "#print(\"Dropped features:\", dropped)"
   ]
  },
  {
   "cell_type": "markdown",
   "id": "4903be47",
   "metadata": {},
   "source": [
    "# 5. Handling missing values"
   ]
  },
  {
   "cell_type": "code",
   "execution_count": 8,
   "id": "57f12d31",
   "metadata": {},
   "outputs": [
    {
     "data": {
      "text/plain": [
       "Sunshine         0.477475\n",
       "Evaporation      0.428739\n",
       "Cloud3pm         0.404455\n",
       "Cloud9am         0.380258\n",
       "Pressure9am      0.099695\n",
       "Pressure3pm      0.099454\n",
       "WindDir9am       0.072117\n",
       "WindGustDir      0.065603\n",
       "WindGustSpeed    0.065174\n",
       "WindDir3pm       0.026805\n",
       "Humidity3pm      0.025275\n",
       "Temp3pm          0.019017\n",
       "WindSpeed3pm     0.018536\n",
       "Humidity9am      0.012510\n",
       "RainToday        0.009924\n",
       "Rainfall         0.009924\n",
       "WindSpeed9am     0.009567\n",
       "Temp9am          0.006368\n",
       "MinTemp          0.004510\n",
       "MaxTemp          0.002288\n",
       "RainTomorrow     0.000000\n",
       "Date             0.000000\n",
       "Location         0.000000\n",
       "Month            0.000000\n",
       "dtype: float64"
      ]
     },
     "execution_count": 8,
     "metadata": {},
     "output_type": "execute_result"
    }
   ],
   "source": [
    "df.isna().mean().sort_values(ascending=False)"
   ]
  },
  {
   "cell_type": "markdown",
   "id": "b295ae73",
   "metadata": {},
   "source": [
    "Impute categorical features with the label `'Missing'`"
   ]
  },
  {
   "cell_type": "code",
   "execution_count": 9,
   "id": "d642c103",
   "metadata": {},
   "outputs": [
    {
     "name": "stdout",
     "output_type": "stream",
     "text": [
      "Location       0.000000\n",
      "WindGustDir    0.065603\n",
      "WindDir9am     0.072117\n",
      "WindDir3pm     0.026805\n",
      "dtype: float64\n"
     ]
    }
   ],
   "source": [
    "print(df[cat_features].isna().mean())\n",
    "\n",
    "for col in cat_features:\n",
    "    df[col] = df[col].fillna('Missing')"
   ]
  },
  {
   "cell_type": "markdown",
   "id": "91f12bca",
   "metadata": {},
   "source": [
    "Impute some numerical features by the median, grouped by `'Month'` and `'Location'`"
   ]
  },
  {
   "cell_type": "code",
   "execution_count": 10,
   "id": "13bfa481",
   "metadata": {},
   "outputs": [],
   "source": [
    "def impute_median_by_group(df, features, group_cols=['Month', 'Location']):\n",
    "    \"\"\"\n",
    "    Impute missing values in specified columns using the median.\n",
    "    First, impute using group-level median (by group_cols).\n",
    "    If group-level median is missing, fall back to the global median of the column.\n",
    "\n",
    "    Args:\n",
    "        df (pd.DataFrame): Original dataframe.\n",
    "        features (list): List of columns to impute.\n",
    "        group_cols (list): Columns to group by for median calculation (default ['Month', 'Location']).\n",
    "\n",
    "    Returns:\n",
    "        pd.DataFrame: Dataframe with imputed values.\n",
    "    \"\"\"\n",
    "    df_imputed = df.copy()\n",
    "\n",
    "    # Group-level medians\n",
    "    group_medians = df_imputed.groupby(group_cols)[features].transform('median')\n",
    "    \n",
    "    for feature in features:        \n",
    "        df_imputed[feature] = df_imputed[feature].fillna(group_medians[feature])\n",
    "\n",
    "    return df_imputed\n"
   ]
  },
  {
   "cell_type": "code",
   "execution_count": 11,
   "id": "035e8c89",
   "metadata": {},
   "outputs": [],
   "source": [
    "num_features = df.select_dtypes(include=['number']).columns.tolist()"
   ]
  },
  {
   "cell_type": "code",
   "execution_count": 12,
   "id": "a545c0d4",
   "metadata": {},
   "outputs": [],
   "source": [
    "df = impute_median_by_group(df, num_features)"
   ]
  },
  {
   "cell_type": "code",
   "execution_count": 13,
   "id": "21da26f1",
   "metadata": {},
   "outputs": [
    {
     "data": {
      "text/plain": [
       "Sunshine         0.368185\n",
       "Evaporation      0.321161\n",
       "Cloud3pm         0.241379\n",
       "Cloud9am         0.241379\n",
       "Pressure3pm      0.083709\n",
       "Pressure9am      0.083709\n",
       "WindGustSpeed    0.041829\n",
       "Date             0.000000\n",
       "Humidity3pm      0.000000\n",
       "RainTomorrow     0.000000\n",
       "RainToday        0.000000\n",
       "Temp3pm          0.000000\n",
       "Temp9am          0.000000\n",
       "WindSpeed3pm     0.000000\n",
       "Humidity9am      0.000000\n",
       "Location         0.000000\n",
       "WindSpeed9am     0.000000\n",
       "WindDir3pm       0.000000\n",
       "WindDir9am       0.000000\n",
       "WindGustDir      0.000000\n",
       "Rainfall         0.000000\n",
       "MaxTemp          0.000000\n",
       "MinTemp          0.000000\n",
       "Month            0.000000\n",
       "dtype: float64"
      ]
     },
     "execution_count": 13,
     "metadata": {},
     "output_type": "execute_result"
    }
   ],
   "source": [
    "df.isna().mean().sort_values(ascending=False)"
   ]
  },
  {
   "cell_type": "code",
   "execution_count": 14,
   "id": "25de1da7",
   "metadata": {},
   "outputs": [
    {
     "data": {
      "text/html": [
       "<div>\n",
       "<style scoped>\n",
       "    .dataframe tbody tr th:only-of-type {\n",
       "        vertical-align: middle;\n",
       "    }\n",
       "\n",
       "    .dataframe tbody tr th {\n",
       "        vertical-align: top;\n",
       "    }\n",
       "\n",
       "    .dataframe thead th {\n",
       "        text-align: right;\n",
       "    }\n",
       "</style>\n",
       "<table border=\"1\" class=\"dataframe\">\n",
       "  <thead>\n",
       "    <tr style=\"text-align: right;\">\n",
       "      <th></th>\n",
       "      <th>Sunshine</th>\n",
       "      <th>Evaporation</th>\n",
       "      <th>Cloud3pm</th>\n",
       "      <th>Cloud9am</th>\n",
       "      <th>Pressure9am</th>\n",
       "      <th>WindGustSpeed</th>\n",
       "    </tr>\n",
       "  </thead>\n",
       "  <tbody>\n",
       "    <tr>\n",
       "      <th>count</th>\n",
       "      <td>86716.000000</td>\n",
       "      <td>93170.000000</td>\n",
       "      <td>104120.000000</td>\n",
       "      <td>104120.000000</td>\n",
       "      <td>125760.000000</td>\n",
       "      <td>131508.000000</td>\n",
       "    </tr>\n",
       "    <tr>\n",
       "      <th>mean</th>\n",
       "      <td>7.862767</td>\n",
       "      <td>5.094657</td>\n",
       "      <td>4.673737</td>\n",
       "      <td>4.678799</td>\n",
       "      <td>1017.882524</td>\n",
       "      <td>39.094956</td>\n",
       "    </tr>\n",
       "    <tr>\n",
       "      <th>std</th>\n",
       "      <td>3.545114</td>\n",
       "      <td>3.262591</td>\n",
       "      <td>2.583820</td>\n",
       "      <td>2.820512</td>\n",
       "      <td>6.930889</td>\n",
       "      <td>12.268522</td>\n",
       "    </tr>\n",
       "    <tr>\n",
       "      <th>min</th>\n",
       "      <td>0.000000</td>\n",
       "      <td>0.000000</td>\n",
       "      <td>0.000000</td>\n",
       "      <td>0.000000</td>\n",
       "      <td>980.500000</td>\n",
       "      <td>6.000000</td>\n",
       "    </tr>\n",
       "    <tr>\n",
       "      <th>25%</th>\n",
       "      <td>5.500000</td>\n",
       "      <td>2.600000</td>\n",
       "      <td>2.000000</td>\n",
       "      <td>2.000000</td>\n",
       "      <td>1013.300000</td>\n",
       "      <td>31.000000</td>\n",
       "    </tr>\n",
       "    <tr>\n",
       "      <th>50%</th>\n",
       "      <td>8.600000</td>\n",
       "      <td>4.600000</td>\n",
       "      <td>5.000000</td>\n",
       "      <td>6.000000</td>\n",
       "      <td>1017.800000</td>\n",
       "      <td>37.000000</td>\n",
       "    </tr>\n",
       "    <tr>\n",
       "      <th>75%</th>\n",
       "      <td>10.600000</td>\n",
       "      <td>7.000000</td>\n",
       "      <td>7.000000</td>\n",
       "      <td>7.000000</td>\n",
       "      <td>1022.500000</td>\n",
       "      <td>46.000000</td>\n",
       "    </tr>\n",
       "    <tr>\n",
       "      <th>max</th>\n",
       "      <td>14.500000</td>\n",
       "      <td>18.400000</td>\n",
       "      <td>9.000000</td>\n",
       "      <td>9.000000</td>\n",
       "      <td>1041.000000</td>\n",
       "      <td>81.000000</td>\n",
       "    </tr>\n",
       "  </tbody>\n",
       "</table>\n",
       "</div>"
      ],
      "text/plain": [
       "           Sunshine   Evaporation       Cloud3pm       Cloud9am  \\\n",
       "count  86716.000000  93170.000000  104120.000000  104120.000000   \n",
       "mean       7.862767      5.094657       4.673737       4.678799   \n",
       "std        3.545114      3.262591       2.583820       2.820512   \n",
       "min        0.000000      0.000000       0.000000       0.000000   \n",
       "25%        5.500000      2.600000       2.000000       2.000000   \n",
       "50%        8.600000      4.600000       5.000000       6.000000   \n",
       "75%       10.600000      7.000000       7.000000       7.000000   \n",
       "max       14.500000     18.400000       9.000000       9.000000   \n",
       "\n",
       "         Pressure9am  WindGustSpeed  \n",
       "count  125760.000000  131508.000000  \n",
       "mean     1017.882524      39.094956  \n",
       "std         6.930889      12.268522  \n",
       "min       980.500000       6.000000  \n",
       "25%      1013.300000      31.000000  \n",
       "50%      1017.800000      37.000000  \n",
       "75%      1022.500000      46.000000  \n",
       "max      1041.000000      81.000000  "
      ]
     },
     "execution_count": 14,
     "metadata": {},
     "output_type": "execute_result"
    }
   ],
   "source": [
    "still_nulls = ['Sunshine', 'Evaporation', 'Cloud3pm', 'Cloud9am', 'Pressure9am', 'WindGustSpeed']\n",
    "df[still_nulls].describe()"
   ]
  },
  {
   "cell_type": "code",
   "execution_count": 15,
   "id": "629addaa",
   "metadata": {},
   "outputs": [
    {
     "data": {
      "text/plain": [
       "Date             0.000000\n",
       "Location         0.000000\n",
       "MinTemp          0.000000\n",
       "MaxTemp          0.000000\n",
       "Rainfall         0.000000\n",
       "Evaporation      0.000000\n",
       "Sunshine         0.000000\n",
       "WindGustDir      0.000000\n",
       "WindGustSpeed    0.000000\n",
       "WindDir9am       0.000000\n",
       "WindDir3pm       0.000000\n",
       "WindSpeed9am     0.000000\n",
       "WindSpeed3pm     0.000000\n",
       "Humidity9am      0.000000\n",
       "Humidity3pm      0.000000\n",
       "Pressure9am      0.000000\n",
       "Pressure3pm      0.083709\n",
       "Cloud9am         0.000000\n",
       "Cloud3pm         0.000000\n",
       "Temp9am          0.000000\n",
       "Temp3pm          0.000000\n",
       "RainToday        0.000000\n",
       "RainTomorrow     0.000000\n",
       "Month            0.000000\n",
       "dtype: float64"
      ]
     },
     "execution_count": 15,
     "metadata": {},
     "output_type": "execute_result"
    }
   ],
   "source": [
    "def impute_with_minus_one(df, columns):\n",
    "    df = df.copy()\n",
    "    for col in columns:\n",
    "        df[col] = df[col].fillna(-1)\n",
    "    return df\n",
    "\n",
    "df = impute_with_minus_one(df, still_nulls)\n",
    "df.isna().mean()"
   ]
  },
  {
   "cell_type": "markdown",
   "id": "2a2f9690",
   "metadata": {},
   "source": [
    "Since there are locations where some of these features are never measured, imputing by both location and month isn’t possible due to the lack of historical data. Given that all values for these features are—and will always be—positive, we’ll impute missing values with -1. This allows us to clearly flag imputed entries while ensuring compatibility with tree-based models."
   ]
  },
  {
   "cell_type": "markdown",
   "id": "821a418c",
   "metadata": {},
   "source": [
    "# 6. Create new features  "
   ]
  },
  {
   "cell_type": "code",
   "execution_count": 16,
   "id": "880868ed",
   "metadata": {},
   "outputs": [],
   "source": [
    "dir_map = {'N':0, 'NNE':22.5, 'NE':45, 'ENE':67.5, 'E':90, 'ESE':112.5,\n",
    "           'SE':135, 'SSE':157.5, 'S':180, 'SSW':202.5, 'SW':225, 'WSW':247.5,\n",
    "           'W':270, 'WNW':292.5, 'NW':315, 'NNW':337.5}\n",
    "df['WindGustDir_deg'] = df['WindGustDir'].map(dir_map)\n",
    "df['WindDir9am_deg'] = df['WindDir9am'].map(dir_map)\n",
    "df['WindDir3pm_deg'] = df['WindDir3pm'].map(dir_map)"
   ]
  },
  {
   "cell_type": "code",
   "execution_count": 17,
   "id": "5d12eabf",
   "metadata": {},
   "outputs": [],
   "source": [
    "# Aux function to detect de feature name (removing the time). For example, Humidity9am -> Humidity\n",
    "def text_before_number(name):\n",
    "    match = re.match(r'^([^\\d]+)', name)\n",
    "    return match.group(1) if match else ''\n",
    "\n",
    "# Aux function to detect all those features that contains 9am or 3pm, which are going to be used to calculate the climate differences during the day\n",
    "def filter_columns(cols):\n",
    "    return [col for col in cols if '9am' in col or '3pm' in col]"
   ]
  },
  {
   "cell_type": "code",
   "execution_count": 18,
   "id": "db4c2aaa",
   "metadata": {},
   "outputs": [
    {
     "data": {
      "text/plain": [
       "['WindDir9am',\n",
       " 'WindDir3pm',\n",
       " 'WindSpeed9am',\n",
       " 'WindSpeed3pm',\n",
       " 'Humidity9am',\n",
       " 'Humidity3pm',\n",
       " 'Pressure9am',\n",
       " 'Pressure3pm',\n",
       " 'Cloud9am',\n",
       " 'Cloud3pm',\n",
       " 'Temp9am',\n",
       " 'Temp3pm',\n",
       " 'WindDir9am_deg',\n",
       " 'WindDir3pm_deg']"
      ]
     },
     "execution_count": 18,
     "metadata": {},
     "output_type": "execute_result"
    }
   ],
   "source": [
    "climate_difference_features = filter_columns(df.columns.to_list())\n",
    "climate_difference_features"
   ]
  },
  {
   "cell_type": "code",
   "execution_count": 19,
   "id": "61037457",
   "metadata": {},
   "outputs": [],
   "source": [
    "def climate_difference(df, feature_3pm, feature_9am):\n",
    "    df_ = df.copy()\n",
    "\n",
    "    feature = text_before_number(feature_3pm)\n",
    "    df_[f'{feature}_Difference'] = df_[feature_3pm] - df_[feature_9am]\n",
    "\n",
    "    return df_"
   ]
  },
  {
   "cell_type": "code",
   "execution_count": 20,
   "id": "709db177",
   "metadata": {},
   "outputs": [],
   "source": [
    "df = climate_difference(df, 'WindSpeed3pm', 'WindSpeed9am')\n",
    "df = climate_difference(df, 'Humidity3pm', 'Humidity9am')\n",
    "df = climate_difference(df, 'Cloud3pm', 'Cloud9am')\n",
    "df = climate_difference(df, 'WindDir3pm_deg', 'WindDir9am_deg')"
   ]
  },
  {
   "cell_type": "code",
   "execution_count": 23,
   "id": "2f8cc8ab",
   "metadata": {},
   "outputs": [],
   "source": [
    "df.sort_values(['Location', 'Date'], inplace=True)\n",
    "for col in ['Rainfall', 'Sunshine', 'WindSpeed9am', 'WindSpeed3pm', 'Humidity9am', 'Humidity3pm']:\n",
    "    df[f'{col}_lag1'] = df.groupby('Location')[col].shift(1)"
   ]
  },
  {
   "cell_type": "code",
   "execution_count": 24,
   "id": "4cf48465",
   "metadata": {},
   "outputs": [],
   "source": [
    "df['HighHumidity'] = (df['Humidity3pm'] > 80).astype(int)\n",
    "df['StrongWind'] = (df['WindSpeed3pm'] > 30).astype(int)\n",
    "df['LowPressure'] = (df['Pressure3pm'] < 1010).astype(int)"
   ]
  },
  {
   "cell_type": "code",
   "execution_count": 25,
   "id": "4230068f",
   "metadata": {},
   "outputs": [],
   "source": [
    "for col in ['Rainfall', 'Humidity3pm']:\n",
    "    df[f'{col}_roll3'] = df.groupby('Location')[col].transform(lambda x: x.rolling(3, min_periods=1).mean())"
   ]
  },
  {
   "cell_type": "code",
   "execution_count": 26,
   "id": "9d9f84c6",
   "metadata": {},
   "outputs": [],
   "source": [
    "df.fillna(0, inplace=True)"
   ]
  },
  {
   "cell_type": "code",
   "execution_count": 27,
   "id": "b768a94b",
   "metadata": {},
   "outputs": [],
   "source": [
    "def assign_season(month):\n",
    "    if month in [12, 1, 2]:\n",
    "        return 'Summer'\n",
    "    elif month in [3, 4, 5]:\n",
    "        return 'Autumn'\n",
    "    elif month in [6, 7, 8]:\n",
    "        return 'Winter'\n",
    "    else:\n",
    "        return 'Spring'\n",
    "\n",
    "df['Season'] = df['Month'].apply(assign_season)"
   ]
  },
  {
   "cell_type": "markdown",
   "id": "d1529f63",
   "metadata": {},
   "source": [
    "# 7. Encoding"
   ]
  },
  {
   "cell_type": "code",
   "execution_count": 29,
   "id": "28254a57",
   "metadata": {},
   "outputs": [],
   "source": [
    "def label_encode_features(df, columns):\n",
    "    df = df.copy()\n",
    "    encoders = {}\n",
    "    \n",
    "    for col in columns:\n",
    "        le = LabelEncoder()\n",
    "        df[col] = le.fit_transform(df[col].astype(str))\n",
    "        encoders[col] = le  # Optional: store encoders if you need to inverse transform later\n",
    "    \n",
    "    return df, encoders"
   ]
  },
  {
   "cell_type": "code",
   "execution_count": 30,
   "id": "8f1b1b74",
   "metadata": {},
   "outputs": [],
   "source": [
    "cat_features.append('Season')\n",
    "df, label_encoders = label_encode_features(df, cat_features)"
   ]
  },
  {
   "cell_type": "code",
   "execution_count": 31,
   "id": "2e0be3ab",
   "metadata": {},
   "outputs": [],
   "source": [
    "def label_encode_features(df, columns):\n",
    "    df = df.copy()\n",
    "    encoders = {}\n",
    "    \n",
    "    for col in columns:\n",
    "        le = LabelEncoder()\n",
    "        df[col] = le.fit_transform(df[col].astype(str))\n",
    "        encoders[col] = le  # Optional: store encoders if you need to inverse transform later\n",
    "    \n",
    "    return df, encoders"
   ]
  },
  {
   "cell_type": "markdown",
   "id": "886c9b43",
   "metadata": {},
   "source": [
    "---"
   ]
  },
  {
   "cell_type": "code",
   "execution_count": 32,
   "id": "fd4e96d8",
   "metadata": {},
   "outputs": [],
   "source": [
    "to_drop = ['Date', 'WindGustDir']\n",
    "df.drop(to_drop, axis=1, inplace=True)"
   ]
  },
  {
   "cell_type": "code",
   "execution_count": 33,
   "id": "660c60be",
   "metadata": {},
   "outputs": [
    {
     "name": "stdout",
     "output_type": "stream",
     "text": [
      "Accuracy: 0.8643351548269581\n",
      "ROC AUC: 0.8946425656369221\n",
      "Classification Report:\n",
      "               precision    recall  f1-score   support\n",
      "\n",
      "           0       0.88      0.95      0.92     21542\n",
      "           1       0.75      0.55      0.63      5908\n",
      "\n",
      "    accuracy                           0.86     27450\n",
      "   macro avg       0.82      0.75      0.78     27450\n",
      "weighted avg       0.86      0.86      0.86     27450\n",
      "\n"
     ]
    }
   ],
   "source": [
    "import lightgbm as lgb\n",
    "from sklearn.model_selection import train_test_split\n",
    "from sklearn.metrics import accuracy_score, roc_auc_score, classification_report\n",
    "\n",
    "# Separar features y target\n",
    "target_column = 'RainTomorrow'\n",
    "X = df.drop(columns=[target_column])\n",
    "y = df[target_column]\n",
    "\n",
    "# Dividir en entrenamiento y test\n",
    "X_train, X_test, y_train, y_test = train_test_split(\n",
    "    X, y, test_size=0.2, random_state=42, stratify=y\n",
    ")\n",
    "\n",
    "# Crear datasets de LightGBM\n",
    "train_data = lgb.Dataset(X_train, label=y_train)\n",
    "test_data = lgb.Dataset(X_test, label=y_test, reference=train_data)\n",
    "\n",
    "# Parámetros del modelo\n",
    "params = {\n",
    "    'objective': 'binary',\n",
    "    'metric': 'binary_logloss',\n",
    "    'boosting_type': 'gbdt',\n",
    "    'learning_rate': 0.05,\n",
    "    'num_leaves': 31,\n",
    "    'verbose': -1,\n",
    "    'seed': 42\n",
    "}\n",
    "\n",
    "# Entrenar el modelo\n",
    "model = lgb.train(\n",
    "    params,\n",
    "    train_data,\n",
    "    num_boost_round=1000,\n",
    "    valid_sets=[train_data, test_data],\n",
    "    valid_names=['train', 'valid'],\n",
    ")\n",
    "\n",
    "# Predecir probabilidades y clases\n",
    "y_pred_proba = model.predict(X_test, num_iteration=model.best_iteration)\n",
    "y_pred = (y_pred_proba > 0.5).astype(int)\n",
    "\n",
    "# Evaluación\n",
    "print(\"Accuracy:\", accuracy_score(y_test, y_pred))\n",
    "print(\"ROC AUC:\", roc_auc_score(y_test, y_pred_proba))\n",
    "print(\"Classification Report:\\n\", classification_report(y_test, y_pred))\n",
    "\n"
   ]
  },
  {
   "cell_type": "code",
   "execution_count": 34,
   "id": "a8ac2fbc",
   "metadata": {},
   "outputs": [
    {
     "name": "stdout",
     "output_type": "stream",
     "text": [
      "                 Feature     Importance\n",
      "12           Humidity3pm  252822.506334\n",
      "6          WindGustSpeed   46490.908532\n",
      "14           Pressure3pm   37899.026174\n",
      "5               Sunshine   31626.523190\n",
      "3               Rainfall   24723.618937\n",
      "0               Location   21859.439495\n",
      "1                MinTemp   14759.121718\n",
      "13           Pressure9am   13352.047556\n",
      "33      Humidity3pm_lag1   12374.326500\n",
      "17               Temp9am   11924.894201\n",
      "16              Cloud3pm   11033.458543\n",
      "2                MaxTemp   10687.270007\n",
      "18               Temp3pm   10156.622291\n",
      "11           Humidity9am    9830.226851\n",
      "21       WindGustDir_deg    9515.783990\n",
      "25   Humidity_Difference    9151.556488\n",
      "8             WindDir3pm    8579.911099\n",
      "23        WindDir3pm_deg    8554.246897\n",
      "36           LowPressure    8413.730298\n",
      "29         Sunshine_lag1    8355.505464\n",
      "38     Humidity3pm_roll3    7572.610702\n",
      "22        WindDir9am_deg    7409.044416\n",
      "32      Humidity9am_lag1    7307.747095\n",
      "20                 Month    7184.704613\n",
      "27    WindDir_Difference    6959.071704\n",
      "24  WindSpeed_Difference    6317.105997\n",
      "10          WindSpeed3pm    6284.017166\n",
      "37        Rainfall_roll3    6234.310053\n",
      "31     WindSpeed3pm_lag1    5879.121943\n",
      "4            Evaporation    5173.565838\n",
      "30     WindSpeed9am_lag1    4863.825037\n",
      "9           WindSpeed9am    4417.223618\n",
      "7             WindDir9am    4294.042769\n",
      "15              Cloud9am    3669.851307\n",
      "28         Rainfall_lag1    3272.836586\n",
      "39                Season    2518.586424\n",
      "26      Cloud_Difference    2481.712912\n",
      "19             RainToday       0.000000\n",
      "34          HighHumidity       0.000000\n",
      "35            StrongWind       0.000000\n"
     ]
    }
   ],
   "source": [
    "# Obtener importancias\n",
    "importances = model.feature_importance(importance_type='gain')  # También puedes usar 'split'\n",
    "feature_names = model.feature_name()\n",
    "\n",
    "# Crear DataFrame ordenado\n",
    "feature_importance_df = pd.DataFrame({\n",
    "    'Feature': feature_names,\n",
    "    'Importance': importances\n",
    "}).sort_values(by='Importance', ascending=False)\n",
    "\n",
    "print(feature_importance_df)\n"
   ]
  },
  {
   "cell_type": "code",
   "execution_count": 35,
   "id": "c9869e61",
   "metadata": {},
   "outputs": [
    {
     "data": {
      "image/png": "[encoded data removed]",
      "text/plain": [
       "<Figure size 1000x800 with 1 Axes>"
      ]
     },
     "metadata": {},
     "output_type": "display_data"
    }
   ],
   "source": [
    "import matplotlib.pyplot as plt\n",
    "\n",
    "# Plotear las 20 más importantes (puedes cambiar el número)\n",
    "top_n = 20\n",
    "feature_importance_df.head(top_n).plot(\n",
    "    kind='barh',\n",
    "    x='Feature',\n",
    "    y='Importance',\n",
    "    figsize=(10, 8),\n",
    "    legend=False\n",
    ")\n",
    "plt.gca().invert_yaxis()\n",
    "plt.title('Top Feature Importances (gain)')\n",
    "plt.xlabel('Importance')\n",
    "plt.tight_layout()\n",
    "plt.show()\n"
   ]
  },
  {
   "cell_type": "code",
   "execution_count": null,
   "id": "5b913c16",
   "metadata": {},
   "outputs": [],
   "source": []
  },
  {
   "cell_type": "code",
   "execution_count": null,
   "id": "2e13a462",
   "metadata": {},
   "outputs": [],
   "source": []
  },
  {
   "cell_type": "code",
   "execution_count": null,
   "id": "6bc25369",
   "metadata": {},
   "outputs": [],
   "source": []
  },
  {
   "cell_type": "code",
   "execution_count": null,
   "id": "e97f51b9",
   "metadata": {},
   "outputs": [],
   "source": []
  },
  {
   "cell_type": "code",
   "execution_count": null,
   "id": "853e2967",
   "metadata": {},
   "outputs": [],
   "source": []
  }
 ],
 "metadata": {
  "kernelspec": {
   "display_name": "aus_rain",
   "language": "python",
   "name": "python3"
  },
  "language_info": {
   "codemirror_mode": {
    "name": "ipython",
    "version": 3
   },
   "file_extension": ".py",
   "mimetype": "text/x-python",
   "name": "python",
   "nbconvert_exporter": "python",
   "pygments_lexer": "ipython3",
   "version": "3.10.16"
  }
 },
 "nbformat": 4,
 "nbformat_minor": 5
}
