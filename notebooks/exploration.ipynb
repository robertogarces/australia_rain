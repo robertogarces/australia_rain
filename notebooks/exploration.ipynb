{
 "cells": [
  {
   "cell_type": "markdown",
   "id": "64fddd5a",
   "metadata": {},
   "source": [
    "# Project Objective\n",
    "\n",
    "The primary goal of this project is to develop a robust machine learning pipeline. While some feature engineering will be done, the focus is not on extensive feature creation or optimization. Instead, the emphasis is on building an efficient and scalable pipeline that can handle data preprocessing, transformation, and model training in a systematic manner. The project is not about achieving the best possible metrics, but rather ensuring that the pipeline can be easily adapted and deployed for different datasets and machine learning tasks.\n",
    "\n",
    "This notebook is the first step in the project and serves as an exploratory phase to better understand the dataset. It will help determine the most appropriate feature engineering techniques to apply and guide the decisions on how the data should be processed for subsequent steps in the pipeline.\n",
    "\n"
   ]
  },
  {
   "cell_type": "code",
   "execution_count": 16,
   "id": "5eb9219d",
   "metadata": {},
   "outputs": [],
   "source": [
    "import pandas as pd\n",
    "import seaborn as sns\n",
    "import matplotlib.pyplot as plt\n",
    "from scipy.stats import chi2_contingency\n",
    "import numpy as np\n",
    "from ydata_profiling import ProfileReport\n",
    "import scipy.stats as stats\n",
    "from sklearn.preprocessing import StandardScaler\n",
    "from sklearn.preprocessing import LabelEncoder\n",
    "from sklearn.model_selection import train_test_split\n",
    "from sklearn.ensemble import RandomForestClassifier\n",
    "from sklearn.metrics import accuracy_score, classification_report\n",
    "from sklearn.metrics import confusion_matrix\n",
    "\n",
    "\n",
    "pd.set_option('display.max_columns', None)"
   ]
  },
  {
   "cell_type": "code",
   "execution_count": 17,
   "id": "2720d16e",
   "metadata": {},
   "outputs": [
    {
     "name": "stdout",
     "output_type": "stream",
     "text": [
      "Dataframe shape: (142193, 23)\n"
     ]
    },
    {
     "data": {
      "text/html": [
       "<div>\n",
       "<style scoped>\n",
       "    .dataframe tbody tr th:only-of-type {\n",
       "        vertical-align: middle;\n",
       "    }\n",
       "\n",
       "    .dataframe tbody tr th {\n",
       "        vertical-align: top;\n",
       "    }\n",
       "\n",
       "    .dataframe thead th {\n",
       "        text-align: right;\n",
       "    }\n",
       "</style>\n",
       "<table border=\"1\" class=\"dataframe\">\n",
       "  <thead>\n",
       "    <tr style=\"text-align: right;\">\n",
       "      <th></th>\n",
       "      <th>Date</th>\n",
       "      <th>Location</th>\n",
       "      <th>MinTemp</th>\n",
       "      <th>MaxTemp</th>\n",
       "      <th>Rainfall</th>\n",
       "      <th>Evaporation</th>\n",
       "      <th>Sunshine</th>\n",
       "      <th>WindGustDir</th>\n",
       "      <th>WindGustSpeed</th>\n",
       "      <th>WindDir9am</th>\n",
       "      <th>WindDir3pm</th>\n",
       "      <th>WindSpeed9am</th>\n",
       "      <th>WindSpeed3pm</th>\n",
       "      <th>Humidity9am</th>\n",
       "      <th>Humidity3pm</th>\n",
       "      <th>Pressure9am</th>\n",
       "      <th>Pressure3pm</th>\n",
       "      <th>Cloud9am</th>\n",
       "      <th>Cloud3pm</th>\n",
       "      <th>Temp9am</th>\n",
       "      <th>Temp3pm</th>\n",
       "      <th>RainToday</th>\n",
       "      <th>RainTomorrow</th>\n",
       "    </tr>\n",
       "  </thead>\n",
       "  <tbody>\n",
       "    <tr>\n",
       "      <th>0</th>\n",
       "      <td>2008-12-01</td>\n",
       "      <td>Albury</td>\n",
       "      <td>13.4</td>\n",
       "      <td>22.9</td>\n",
       "      <td>0.6</td>\n",
       "      <td>NaN</td>\n",
       "      <td>NaN</td>\n",
       "      <td>W</td>\n",
       "      <td>44.0</td>\n",
       "      <td>W</td>\n",
       "      <td>WNW</td>\n",
       "      <td>20.0</td>\n",
       "      <td>24.0</td>\n",
       "      <td>71.0</td>\n",
       "      <td>22.0</td>\n",
       "      <td>1007.7</td>\n",
       "      <td>1007.1</td>\n",
       "      <td>8.0</td>\n",
       "      <td>NaN</td>\n",
       "      <td>16.9</td>\n",
       "      <td>21.8</td>\n",
       "      <td>0.0</td>\n",
       "      <td>0</td>\n",
       "    </tr>\n",
       "    <tr>\n",
       "      <th>1</th>\n",
       "      <td>2008-12-02</td>\n",
       "      <td>Albury</td>\n",
       "      <td>7.4</td>\n",
       "      <td>25.1</td>\n",
       "      <td>0.0</td>\n",
       "      <td>NaN</td>\n",
       "      <td>NaN</td>\n",
       "      <td>WNW</td>\n",
       "      <td>44.0</td>\n",
       "      <td>NNW</td>\n",
       "      <td>WSW</td>\n",
       "      <td>4.0</td>\n",
       "      <td>22.0</td>\n",
       "      <td>44.0</td>\n",
       "      <td>25.0</td>\n",
       "      <td>1010.6</td>\n",
       "      <td>1007.8</td>\n",
       "      <td>NaN</td>\n",
       "      <td>NaN</td>\n",
       "      <td>17.2</td>\n",
       "      <td>24.3</td>\n",
       "      <td>0.0</td>\n",
       "      <td>0</td>\n",
       "    </tr>\n",
       "    <tr>\n",
       "      <th>2</th>\n",
       "      <td>2008-12-03</td>\n",
       "      <td>Albury</td>\n",
       "      <td>12.9</td>\n",
       "      <td>25.7</td>\n",
       "      <td>0.0</td>\n",
       "      <td>NaN</td>\n",
       "      <td>NaN</td>\n",
       "      <td>WSW</td>\n",
       "      <td>46.0</td>\n",
       "      <td>W</td>\n",
       "      <td>WSW</td>\n",
       "      <td>19.0</td>\n",
       "      <td>26.0</td>\n",
       "      <td>38.0</td>\n",
       "      <td>30.0</td>\n",
       "      <td>1007.6</td>\n",
       "      <td>1008.7</td>\n",
       "      <td>NaN</td>\n",
       "      <td>2.0</td>\n",
       "      <td>21.0</td>\n",
       "      <td>23.2</td>\n",
       "      <td>0.0</td>\n",
       "      <td>0</td>\n",
       "    </tr>\n",
       "  </tbody>\n",
       "</table>\n",
       "</div>"
      ],
      "text/plain": [
       "         Date Location  MinTemp  MaxTemp  Rainfall  Evaporation  Sunshine  \\\n",
       "0  2008-12-01   Albury     13.4     22.9       0.6          NaN       NaN   \n",
       "1  2008-12-02   Albury      7.4     25.1       0.0          NaN       NaN   \n",
       "2  2008-12-03   Albury     12.9     25.7       0.0          NaN       NaN   \n",
       "\n",
       "  WindGustDir  WindGustSpeed WindDir9am WindDir3pm  WindSpeed9am  \\\n",
       "0           W           44.0          W        WNW          20.0   \n",
       "1         WNW           44.0        NNW        WSW           4.0   \n",
       "2         WSW           46.0          W        WSW          19.0   \n",
       "\n",
       "   WindSpeed3pm  Humidity9am  Humidity3pm  Pressure9am  Pressure3pm  Cloud9am  \\\n",
       "0          24.0         71.0         22.0       1007.7       1007.1       8.0   \n",
       "1          22.0         44.0         25.0       1010.6       1007.8       NaN   \n",
       "2          26.0         38.0         30.0       1007.6       1008.7       NaN   \n",
       "\n",
       "   Cloud3pm  Temp9am  Temp3pm  RainToday  RainTomorrow  \n",
       "0       NaN     16.9     21.8        0.0             0  \n",
       "1       NaN     17.2     24.3        0.0             0  \n",
       "2       2.0     21.0     23.2        0.0             0  "
      ]
     },
     "execution_count": 17,
     "metadata": {},
     "output_type": "execute_result"
    }
   ],
   "source": [
    "# Load dataset\n",
    "df = pd.read_csv('../data/raw/weatherAUS.csv')\n",
    "target = 'RainTomorrow'\n",
    "# Drop target labels that are null\n",
    "df.dropna(subset=[target], inplace=True)\n",
    "# Convert both target and RainToday feature into boolean\n",
    "df['RainTomorrow'] = df['RainTomorrow'].map({'No': 0, 'Yes': 1})\n",
    "df['RainToday'] = df['RainToday'].map({'No': 0, 'Yes': 1})\n",
    "numerical_features = df.select_dtypes(include=np.number).columns.tolist()\n",
    "categorical_features = df.select_dtypes(include='object').columns.tolist()\n",
    "\n",
    "print(f'Dataframe shape: {df.shape}')\n",
    "df.head(3)"
   ]
  },
  {
   "cell_type": "code",
   "execution_count": 18,
   "id": "61640a89",
   "metadata": {},
   "outputs": [
    {
     "data": {
      "text/plain": [
       "Date             0.000000\n",
       "Location         0.000000\n",
       "MinTemp          0.004480\n",
       "MaxTemp          0.002265\n",
       "Rainfall         0.009888\n",
       "Evaporation      0.427890\n",
       "Sunshine         0.476929\n",
       "WindGustDir      0.065615\n",
       "WindGustSpeed    0.065193\n",
       "WindDir9am       0.070418\n",
       "WindDir3pm       0.026570\n",
       "WindSpeed9am     0.009480\n",
       "WindSpeed3pm     0.018496\n",
       "Humidity9am      0.012476\n",
       "Humidity3pm      0.025388\n",
       "Pressure9am      0.098556\n",
       "Pressure3pm      0.098324\n",
       "Cloud9am         0.377353\n",
       "Cloud3pm         0.401525\n",
       "Temp9am          0.006358\n",
       "Temp3pm          0.019171\n",
       "RainToday        0.009888\n",
       "RainTomorrow     0.000000\n",
       "dtype: float64"
      ]
     },
     "execution_count": 18,
     "metadata": {},
     "output_type": "execute_result"
    }
   ],
   "source": [
    "df.isna().mean()"
   ]
  },
  {
   "cell_type": "markdown",
   "id": "a1d5b76c",
   "metadata": {},
   "source": [
    "# Profile Report"
   ]
  },
  {
   "cell_type": "code",
   "execution_count": 19,
   "id": "c11999f9",
   "metadata": {},
   "outputs": [],
   "source": [
    "#ProfileReport(df)"
   ]
  },
  {
   "cell_type": "markdown",
   "id": "4f7edf7a",
   "metadata": {},
   "source": [
    "# Display the distribution of the numerical features"
   ]
  },
  {
   "cell_type": "code",
   "execution_count": 20,
   "id": "1603bb3a",
   "metadata": {},
   "outputs": [
    {
     "data": {
      "image/png": "[encoded data removed]",
      "text/plain": [
       "<Figure size 864x576 with 20 Axes>"
      ]
     },
     "metadata": {
      "needs_background": "light"
     },
     "output_type": "display_data"
    }
   ],
   "source": [
    "df[numerical_features].hist(figsize=(12, 8))\n",
    "plt.show()\n",
    "features_with_outliers = ['Rainfall', 'Evaporation', 'WindGustSpeed', 'WindSpeed9am', 'WindSpeed3pm']\n",
    "\n",
    "# Outliers: Rainfall, Evaporation and WindSpeed features"
   ]
  },
  {
   "cell_type": "markdown",
   "id": "94665a94",
   "metadata": {},
   "source": [
    "### Remove outliers"
   ]
  },
  {
   "cell_type": "code",
   "execution_count": 21,
   "id": "b50f5a65",
   "metadata": {},
   "outputs": [],
   "source": [
    "#features_with_outliers = ['Rainfall', 'Evaporation', 'WindGustSpeed', 'WindSpeed9am', 'WindSpeed3pm']"
   ]
  },
  {
   "cell_type": "code",
   "execution_count": 22,
   "id": "f6281129",
   "metadata": {},
   "outputs": [],
   "source": [
    "for feature in features_with_outliers:\n",
    "    q = df[feature].quantile(0.99)\n",
    "    df = df[(df[feature]<q) | df[feature].isnull()]"
   ]
  },
  {
   "cell_type": "markdown",
   "id": "e652b2a7",
   "metadata": {},
   "source": [
    "# Display the frequency of each value in categorical variables"
   ]
  },
  {
   "cell_type": "code",
   "execution_count": 23,
   "id": "ad92807d",
   "metadata": {},
   "outputs": [
    {
     "data": {
      "image/png": "[encoded data removed]",
      "text/plain": [
       "<Figure size 864x576 with 5 Axes>"
      ]
     },
     "metadata": {
      "needs_background": "light"
     },
     "output_type": "display_data"
    }
   ],
   "source": [
    "plt.figure(figsize=(12, 8))\n",
    "\n",
    "for idx, feature in enumerate(categorical_features):\n",
    "    plt.subplot(len(categorical_features), 1, idx+1)  # Crear un subplot para cada variable categórica\n",
    "    # Crear una copia temporal para la visualización\n",
    "    temp_feature = df[feature].copy()\n",
    "    # Reemplazar los nulos por \"Missing\" solo en la copia temporal\n",
    "    temp_feature = temp_feature.fillna(\"Missing\")\n",
    "    \n",
    "    # Obtener el orden de las categorías (excepto \"Missing\")\n",
    "    category_order = [cat for cat in temp_feature.value_counts().index if cat != \"Missing\"]\n",
    "    # Añadir \"Missing\" al final del orden\n",
    "    category_order.append(\"Missing\")\n",
    "    \n",
    "    # Crear el gráfico con el orden especificado\n",
    "    sns.countplot(x=temp_feature, order=category_order)\n",
    "    \n",
    "    plt.title(f'Distribution of {feature}')\n",
    "    plt.xlabel(f'{feature}')\n",
    "    plt.ylabel('Frequency')\n",
    "\n",
    "plt.tight_layout()\n",
    "plt.show()"
   ]
  },
  {
   "cell_type": "code",
   "execution_count": 24,
   "id": "fb582f0e",
   "metadata": {},
   "outputs": [
    {
     "name": "stdout",
     "output_type": "stream",
     "text": [
      "       Feature              Target  Cramérs V\n",
      "0         Date  target_categorical   0.345120\n",
      "1     Location  target_categorical   0.152186\n",
      "2  WindGustDir  target_categorical   0.107033\n",
      "3   WindDir9am  target_categorical   0.131716\n",
      "4   WindDir3pm  target_categorical   0.095269\n"
     ]
    }
   ],
   "source": [
    "# Cramér's V calculation function\n",
    "def cramers_v(x, y):\n",
    "    # Create a contingency table\n",
    "    confusion_matrix = pd.crosstab(x, y)\n",
    "    chi2, p, dof, ex = stats.chi2_contingency(confusion_matrix)\n",
    "    n = confusion_matrix.sum().sum()\n",
    "    return np.sqrt(chi2 / (n * (min(confusion_matrix.shape) - 1)))\n",
    "\n",
    "# Main function to display the correlation between categorical features\n",
    "def categorical_correlation(df, categorical_features, target):\n",
    "\n",
    "    df['target_categorical'] = pd.cut(df[target], bins=5, labels=False, include_lowest=True)\n",
    "\n",
    "    # Lista para almacenar los resultados de Cramér's V\n",
    "    cramers_v_matrix = []\n",
    "\n",
    "    # Iterar sobre las variables categóricas\n",
    "    for feature in categorical_features:\n",
    "        # Calcular la correlación entre la variable categórica y la variable target categorizada\n",
    "        cramers_v_val = cramers_v(df[feature], df['target_categorical'])\n",
    "        cramers_v_matrix.append([feature, 'target_categorical', cramers_v_val])\n",
    "    \n",
    "    # Convertir el resultado en un DataFrame\n",
    "    cramers_v_df = pd.DataFrame(cramers_v_matrix, columns=['Feature', 'Target', 'Cramérs V'])\n",
    "    \n",
    "    # Eliminar la columna temporal 'target_categorical'\n",
    "    df.drop(columns=['target_categorical'], inplace=True)\n",
    "\n",
    "    return cramers_v_df\n",
    "\n",
    "# Calcular la matriz de correlación\n",
    "correlation_matrix = categorical_correlation(df, categorical_features, target)\n",
    "\n",
    "# Mostrar el resultado\n",
    "print(correlation_matrix)"
   ]
  },
  {
   "cell_type": "markdown",
   "id": "9fbc82ff",
   "metadata": {},
   "source": [
    "#### Since data imputation is outside the scope of this project, no imputation will be performed for any feature. For features that exceed a certain threshold of missing values, these columns will simply be excluded from the analysis. For features with fewer missing values than the threshold, the corresponding records with missing values will be removed"
   ]
  },
  {
   "cell_type": "code",
   "execution_count": 25,
   "id": "d23c62e2",
   "metadata": {},
   "outputs": [
    {
     "name": "stdout",
     "output_type": "stream",
     "text": [
      "Number of columns dropped: 6\n",
      "Index(['Evaporation', 'Sunshine', 'Pressure9am', 'Pressure3pm', 'Cloud9am',\n",
      "       'Cloud3pm'],\n",
      "      dtype='object')\n",
      "Number of rows dropped: 19696\n"
     ]
    },
    {
     "name": "stderr",
     "output_type": "stream",
     "text": [
      "<ipython-input-25-57acb1895bde>:33: SettingWithCopyWarning: \n",
      "A value is trying to be set on a copy of a slice from a DataFrame\n",
      "\n",
      "See the caveats in the documentation: https://pandas.pydata.org/pandas-docs/stable/user_guide/indexing.html#returning-a-view-versus-a-copy\n",
      "  df.dropna(inplace=True)\n"
     ]
    }
   ],
   "source": [
    "def handle_missing_data(df, threshold=0.1):\n",
    "    \"\"\"\n",
    "    Handles missing data by excluding features with missing values exceeding a certain threshold \n",
    "    and removing rows with missing values in features below the threshold.\n",
    "\n",
    "    Parameters:\n",
    "    - df (pd.DataFrame): The input dataframe.\n",
    "    - threshold (float): The threshold percentage of missing values. Features with missing values \n",
    "      exceeding this threshold will be excluded. Default is 0.2 (20%).\n",
    "\n",
    "    Returns:\n",
    "    - pd.DataFrame: The dataframe after handling missing data.\n",
    "    \"\"\"\n",
    "    \n",
    "    # Calculate the percentage of missing values for each column\n",
    "    missing_percentage = df.isnull().mean()\n",
    "    \n",
    "    # Find columns to drop (those that exceed the threshold)\n",
    "    columns_to_drop = missing_percentage[missing_percentage > threshold].index\n",
    "    # Find columns to keep\n",
    "    columns_to_keep = missing_percentage[missing_percentage <= threshold].index\n",
    "    \n",
    "    # Store the number of columns to drop\n",
    "    num_columns_dropped = len(columns_to_drop)\n",
    "    \n",
    "    # Exclude columns with missing values greater than the threshold\n",
    "    df = df[columns_to_keep]\n",
    "    \n",
    "    # Count the number of rows with missing values in the remaining columns\n",
    "    rows_with_missing_values = df.isnull().any(axis=1).sum()  # Count rows with at least one NaN\n",
    "    \n",
    "    # Drop rows with missing values\n",
    "    df.dropna(inplace=True)\n",
    "    \n",
    "    # Output the information on dropped columns and rows\n",
    "    print(f\"Number of columns dropped: {num_columns_dropped}\")\n",
    "    print(columns_to_drop)\n",
    "    print(f\"Number of rows dropped: {rows_with_missing_values}\")\n",
    "    \n",
    "    return df\n",
    "\n",
    "# Example of how to use the function:\n",
    "# Assuming df is your DataFrame\n",
    "# df_cleaned = handle_missing_data(df, threshold=0.2)\n",
    "\n",
    "\n",
    "df = handle_missing_data(df)"
   ]
  },
  {
   "cell_type": "markdown",
   "id": "f6dac5f9",
   "metadata": {},
   "source": [
    "# Prepare the dataset to build a pilot machine learning model"
   ]
  },
  {
   "cell_type": "code",
   "execution_count": 11,
   "id": "111a7ded",
   "metadata": {},
   "outputs": [
    {
     "data": {
      "text/html": [
       "<div>\n",
       "<style scoped>\n",
       "    .dataframe tbody tr th:only-of-type {\n",
       "        vertical-align: middle;\n",
       "    }\n",
       "\n",
       "    .dataframe tbody tr th {\n",
       "        vertical-align: top;\n",
       "    }\n",
       "\n",
       "    .dataframe thead th {\n",
       "        text-align: right;\n",
       "    }\n",
       "</style>\n",
       "<table border=\"1\" class=\"dataframe\">\n",
       "  <thead>\n",
       "    <tr style=\"text-align: right;\">\n",
       "      <th></th>\n",
       "      <th>MinTemp</th>\n",
       "      <th>MaxTemp</th>\n",
       "      <th>Rainfall</th>\n",
       "      <th>WindGustSpeed</th>\n",
       "      <th>WindSpeed9am</th>\n",
       "      <th>WindSpeed3pm</th>\n",
       "      <th>Humidity9am</th>\n",
       "      <th>Humidity3pm</th>\n",
       "      <th>Temp9am</th>\n",
       "      <th>Temp3pm</th>\n",
       "      <th>RainToday</th>\n",
       "      <th>RainTomorrow</th>\n",
       "    </tr>\n",
       "  </thead>\n",
       "  <tbody>\n",
       "    <tr>\n",
       "      <th>count</th>\n",
       "      <td>115518.000000</td>\n",
       "      <td>115518.000000</td>\n",
       "      <td>115518.000000</td>\n",
       "      <td>115518.000000</td>\n",
       "      <td>115518.000000</td>\n",
       "      <td>115518.000000</td>\n",
       "      <td>115518.000000</td>\n",
       "      <td>115518.000000</td>\n",
       "      <td>115518.000000</td>\n",
       "      <td>115518.000000</td>\n",
       "      <td>115518.000000</td>\n",
       "      <td>115518.000000</td>\n",
       "    </tr>\n",
       "    <tr>\n",
       "      <th>mean</th>\n",
       "      <td>12.268545</td>\n",
       "      <td>23.425481</td>\n",
       "      <td>1.671632</td>\n",
       "      <td>39.361000</td>\n",
       "      <td>14.347954</td>\n",
       "      <td>18.508691</td>\n",
       "      <td>67.793643</td>\n",
       "      <td>50.575010</td>\n",
       "      <td>17.143044</td>\n",
       "      <td>21.920352</td>\n",
       "      <td>0.211742</td>\n",
       "      <td>0.208894</td>\n",
       "    </tr>\n",
       "    <tr>\n",
       "      <th>std</th>\n",
       "      <td>6.333831</td>\n",
       "      <td>7.093401</td>\n",
       "      <td>4.596034</td>\n",
       "      <td>11.731169</td>\n",
       "      <td>7.416961</td>\n",
       "      <td>7.719111</td>\n",
       "      <td>18.850246</td>\n",
       "      <td>20.647089</td>\n",
       "      <td>6.445188</td>\n",
       "      <td>6.958849</td>\n",
       "      <td>0.408545</td>\n",
       "      <td>0.406520</td>\n",
       "    </tr>\n",
       "    <tr>\n",
       "      <th>min</th>\n",
       "      <td>-8.500000</td>\n",
       "      <td>-4.800000</td>\n",
       "      <td>0.000000</td>\n",
       "      <td>7.000000</td>\n",
       "      <td>2.000000</td>\n",
       "      <td>2.000000</td>\n",
       "      <td>1.000000</td>\n",
       "      <td>0.000000</td>\n",
       "      <td>-7.200000</td>\n",
       "      <td>-5.400000</td>\n",
       "      <td>0.000000</td>\n",
       "      <td>0.000000</td>\n",
       "    </tr>\n",
       "    <tr>\n",
       "      <th>25%</th>\n",
       "      <td>7.700000</td>\n",
       "      <td>18.100000</td>\n",
       "      <td>0.000000</td>\n",
       "      <td>31.000000</td>\n",
       "      <td>9.000000</td>\n",
       "      <td>13.000000</td>\n",
       "      <td>56.000000</td>\n",
       "      <td>36.000000</td>\n",
       "      <td>12.400000</td>\n",
       "      <td>16.800000</td>\n",
       "      <td>0.000000</td>\n",
       "      <td>0.000000</td>\n",
       "    </tr>\n",
       "    <tr>\n",
       "      <th>50%</th>\n",
       "      <td>12.000000</td>\n",
       "      <td>23.000000</td>\n",
       "      <td>0.000000</td>\n",
       "      <td>39.000000</td>\n",
       "      <td>13.000000</td>\n",
       "      <td>19.000000</td>\n",
       "      <td>69.000000</td>\n",
       "      <td>51.000000</td>\n",
       "      <td>16.800000</td>\n",
       "      <td>21.400000</td>\n",
       "      <td>0.000000</td>\n",
       "      <td>0.000000</td>\n",
       "    </tr>\n",
       "    <tr>\n",
       "      <th>75%</th>\n",
       "      <td>16.900000</td>\n",
       "      <td>28.500000</td>\n",
       "      <td>0.600000</td>\n",
       "      <td>46.000000</td>\n",
       "      <td>19.000000</td>\n",
       "      <td>24.000000</td>\n",
       "      <td>81.000000</td>\n",
       "      <td>65.000000</td>\n",
       "      <td>21.700000</td>\n",
       "      <td>26.800000</td>\n",
       "      <td>0.000000</td>\n",
       "      <td>0.000000</td>\n",
       "    </tr>\n",
       "    <tr>\n",
       "      <th>max</th>\n",
       "      <td>33.900000</td>\n",
       "      <td>47.300000</td>\n",
       "      <td>37.200000</td>\n",
       "      <td>78.000000</td>\n",
       "      <td>35.000000</td>\n",
       "      <td>39.000000</td>\n",
       "      <td>100.000000</td>\n",
       "      <td>100.000000</td>\n",
       "      <td>40.200000</td>\n",
       "      <td>46.700000</td>\n",
       "      <td>1.000000</td>\n",
       "      <td>1.000000</td>\n",
       "    </tr>\n",
       "  </tbody>\n",
       "</table>\n",
       "</div>"
      ],
      "text/plain": [
       "             MinTemp        MaxTemp       Rainfall  WindGustSpeed  \\\n",
       "count  115518.000000  115518.000000  115518.000000  115518.000000   \n",
       "mean       12.268545      23.425481       1.671632      39.361000   \n",
       "std         6.333831       7.093401       4.596034      11.731169   \n",
       "min        -8.500000      -4.800000       0.000000       7.000000   \n",
       "25%         7.700000      18.100000       0.000000      31.000000   \n",
       "50%        12.000000      23.000000       0.000000      39.000000   \n",
       "75%        16.900000      28.500000       0.600000      46.000000   \n",
       "max        33.900000      47.300000      37.200000      78.000000   \n",
       "\n",
       "        WindSpeed9am   WindSpeed3pm    Humidity9am    Humidity3pm  \\\n",
       "count  115518.000000  115518.000000  115518.000000  115518.000000   \n",
       "mean       14.347954      18.508691      67.793643      50.575010   \n",
       "std         7.416961       7.719111      18.850246      20.647089   \n",
       "min         2.000000       2.000000       1.000000       0.000000   \n",
       "25%         9.000000      13.000000      56.000000      36.000000   \n",
       "50%        13.000000      19.000000      69.000000      51.000000   \n",
       "75%        19.000000      24.000000      81.000000      65.000000   \n",
       "max        35.000000      39.000000     100.000000     100.000000   \n",
       "\n",
       "             Temp9am        Temp3pm      RainToday   RainTomorrow  \n",
       "count  115518.000000  115518.000000  115518.000000  115518.000000  \n",
       "mean       17.143044      21.920352       0.211742       0.208894  \n",
       "std         6.445188       6.958849       0.408545       0.406520  \n",
       "min        -7.200000      -5.400000       0.000000       0.000000  \n",
       "25%        12.400000      16.800000       0.000000       0.000000  \n",
       "50%        16.800000      21.400000       0.000000       0.000000  \n",
       "75%        21.700000      26.800000       0.000000       0.000000  \n",
       "max        40.200000      46.700000       1.000000       1.000000  "
      ]
     },
     "execution_count": 11,
     "metadata": {},
     "output_type": "execute_result"
    }
   ],
   "source": [
    "df.describe()"
   ]
  },
  {
   "cell_type": "code",
   "execution_count": 12,
   "id": "093e0ec2",
   "metadata": {},
   "outputs": [
    {
     "name": "stdout",
     "output_type": "stream",
     "text": [
      "Encoding categorical columns: ['Date', 'Location', 'WindGustDir', 'WindDir9am', 'WindDir3pm']\n"
     ]
    }
   ],
   "source": [
    "def standardize_columns(df):\n",
    "    \"\"\"\n",
    "    Automatically detects numerical columns and standardizes them using z-score normalization.\n",
    "    \n",
    "    :param df: pandas DataFrame\n",
    "    :return: DataFrame with standardized numerical columns\n",
    "    \"\"\"\n",
    "    df = df.copy()\n",
    "    numeric_cols = df.select_dtypes(include=[np.number]).columns.tolist()\n",
    "    \n",
    "    if numeric_cols:\n",
    "        print(f\"Standardizing numerical columns: {numeric_cols}\")\n",
    "        scaler = StandardScaler()\n",
    "        df[numeric_cols] = scaler.fit_transform(df[numeric_cols])\n",
    "    else:\n",
    "        print(\"No numerical columns found to standardize.\")\n",
    "    \n",
    "    return df\n",
    "\n",
    "\n",
    "def label_encode_columns(df):\n",
    "    \"\"\"\n",
    "    Automatically detects categorical columns and applies label encoding.\n",
    "    \n",
    "    :param df: pandas DataFrame\n",
    "    :return: DataFrame with label-encoded categorical columns\n",
    "    \"\"\"\n",
    "    df = df.copy()\n",
    "    categorical_cols = df.select_dtypes(include=['object', 'category']).columns.tolist()\n",
    "    \n",
    "    if categorical_cols:\n",
    "        print(f\"Encoding categorical columns: {categorical_cols}\")\n",
    "        le = LabelEncoder()\n",
    "        for col in categorical_cols:\n",
    "            df[col] = le.fit_transform(df[col].astype(str))\n",
    "    else:\n",
    "        print(\"No categorical columns found to encode.\")\n",
    "    \n",
    "    return df\n",
    "\n",
    "#df = standardize_columns(df)\n",
    "df = label_encode_columns(df)"
   ]
  },
  {
   "cell_type": "code",
   "execution_count": 13,
   "id": "a7fec075",
   "metadata": {},
   "outputs": [],
   "source": [
    "df.drop('Date', axis=1, inplace=True)"
   ]
  },
  {
   "cell_type": "code",
   "execution_count": 14,
   "id": "03912f16",
   "metadata": {},
   "outputs": [],
   "source": [
    "X = df.drop(columns=[target])  \n",
    "y = df[target]                \n",
    "\n",
    "X_train, X_test, y_train, y_test = train_test_split(\n",
    "    X, y, test_size=0.2, random_state=42, stratify=y  # Usa stratify si es clasificación\n",
    ")"
   ]
  },
  {
   "cell_type": "code",
   "execution_count": 26,
   "id": "9f7fe2c5",
   "metadata": {},
   "outputs": [
    {
     "data": {
      "text/plain": [
       "Index(['Location', 'MinTemp', 'MaxTemp', 'Rainfall', 'WindGustDir',\n",
       "       'WindGustSpeed', 'WindDir9am', 'WindDir3pm', 'WindSpeed9am',\n",
       "       'WindSpeed3pm', 'Humidity9am', 'Humidity3pm', 'Temp9am', 'Temp3pm',\n",
       "       'RainToday'],\n",
       "      dtype='object')"
      ]
     },
     "execution_count": 26,
     "metadata": {},
     "output_type": "execute_result"
    }
   ],
   "source": [
    "X.columns"
   ]
  },
  {
   "cell_type": "code",
   "execution_count": 17,
   "id": "6a4d67f3",
   "metadata": {},
   "outputs": [
    {
     "name": "stdout",
     "output_type": "stream",
     "text": [
      "Accuracy: 0.8597212603878116\n",
      "\n",
      "Classification Report:\n",
      "               precision    recall  f1-score   support\n",
      "\n",
      "           0       0.88      0.96      0.92     18278\n",
      "           1       0.76      0.48      0.59      4826\n",
      "\n",
      "    accuracy                           0.86     23104\n",
      "   macro avg       0.82      0.72      0.75     23104\n",
      "weighted avg       0.85      0.86      0.85     23104\n",
      "\n"
     ]
    }
   ],
   "source": [
    "rf_model = RandomForestClassifier(random_state=42)\n",
    "rf_model.fit(X_train, y_train)\n",
    "\n",
    "# Predicciones\n",
    "y_pred = rf_model.predict(X_test)\n",
    "\n",
    "# Evaluación\n",
    "print(\"Accuracy:\", accuracy_score(y_test, y_pred))\n",
    "print(\"\\nClassification Report:\\n\", classification_report(y_test, y_pred))"
   ]
  },
  {
   "cell_type": "code",
   "execution_count": 18,
   "id": "0a6ce7b0",
   "metadata": {},
   "outputs": [
    {
     "data": {
      "image/png": "[encoded data removed]",
      "text/plain": [
       "<Figure size 576x432 with 1 Axes>"
      ]
     },
     "metadata": {
      "needs_background": "light"
     },
     "output_type": "display_data"
    }
   ],
   "source": [
    "cm = confusion_matrix(y_test, y_pred)\n",
    "\n",
    "# Configura el tamaño del gráfico\n",
    "plt.figure(figsize=(8, 6))\n",
    "\n",
    "# Crea el heatmap de la matriz de confusión\n",
    "sns.heatmap(cm, annot=True, fmt='g', cmap='Blues', xticklabels=['Class 0', 'Class 1'], yticklabels=['Class 0', 'Class 1'], cbar=False)\n",
    "\n",
    "# Añadir títulos y etiquetas\n",
    "plt.title('Confusion Matrix')\n",
    "plt.xlabel('Predicted')\n",
    "plt.ylabel('Actual')\n",
    "\n",
    "# Muestra el gráfico\n",
    "plt.show()"
   ]
  },
  {
   "cell_type": "code",
   "execution_count": null,
   "id": "578a933a",
   "metadata": {},
   "outputs": [],
   "source": []
  },
  {
   "cell_type": "code",
   "execution_count": null,
   "id": "56eede5f",
   "metadata": {},
   "outputs": [],
   "source": []
  },
  {
   "cell_type": "code",
   "execution_count": null,
   "id": "e0ce55ce",
   "metadata": {},
   "outputs": [],
   "source": []
  },
  {
   "cell_type": "code",
   "execution_count": null,
   "id": "a26502f4",
   "metadata": {},
   "outputs": [],
   "source": []
  },
  {
   "cell_type": "code",
   "execution_count": null,
   "id": "c3898393",
   "metadata": {},
   "outputs": [],
   "source": []
  }
 ],
 "metadata": {
  "kernelspec": {
   "display_name": "datascience",
   "language": "python",
   "name": "python3"
  },
  "language_info": {
   "codemirror_mode": {
    "name": "ipython",
    "version": 3
   },
   "file_extension": ".py",
   "mimetype": "text/x-python",
   "name": "python",
   "nbconvert_exporter": "python",
   "pygments_lexer": "ipython3",
   "version": "3.9.18"
  }
 },
 "nbformat": 4,
 "nbformat_minor": 5
}
